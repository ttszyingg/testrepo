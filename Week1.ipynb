{
 "cells": [
  {
   "cell_type": "code",
   "execution_count": 1,
   "metadata": {},
   "outputs": [],
   "source": [
    "import pandas as pd"
   ]
  },
  {
   "cell_type": "code",
   "execution_count": 2,
   "metadata": {},
   "outputs": [
    {
     "ename": "AttributeError",
     "evalue": "type object 'DataFrame' has no attribute 'from_csv'",
     "output_type": "error",
     "traceback": [
      "\u001b[0;31m---------------------------------------------------------------------------\u001b[0m",
      "\u001b[0;31mAttributeError\u001b[0m                            Traceback (most recent call last)",
      "\u001b[0;32m<ipython-input-2-79709f3a221a>\u001b[0m in \u001b[0;36m<module>\u001b[0;34m\u001b[0m\n\u001b[0;32m----> 1\u001b[0;31m \u001b[0mfd\u001b[0m \u001b[0;34m=\u001b[0m \u001b[0mpd\u001b[0m\u001b[0;34m.\u001b[0m\u001b[0mDataFrame\u001b[0m\u001b[0;34m.\u001b[0m\u001b[0mfrom_csv\u001b[0m\u001b[0;34m(\u001b[0m\u001b[0;34m'data/facebook.csv'\u001b[0m\u001b[0;34m)\u001b[0m\u001b[0;34m\u001b[0m\u001b[0;34m\u001b[0m\u001b[0m\n\u001b[0m\u001b[1;32m      2\u001b[0m \u001b[0mms\u001b[0m \u001b[0;34m=\u001b[0m \u001b[0mpd\u001b[0m\u001b[0;34m.\u001b[0m\u001b[0mDataFrame\u001b[0m\u001b[0;34m.\u001b[0m\u001b[0mfrom_csv\u001b[0m\u001b[0;34m(\u001b[0m\u001b[0;34m'data/microsoft.csv'\u001b[0m\u001b[0;34m)\u001b[0m\u001b[0;34m\u001b[0m\u001b[0;34m\u001b[0m\u001b[0m\n",
      "\u001b[0;31mAttributeError\u001b[0m: type object 'DataFrame' has no attribute 'from_csv'"
     ]
    }
   ],
   "source": [
    "fd = pd.read_csv('data/facebook.csv')\n",
    "ms = pd.read_csv('data/microsoft.csv')"
   ]
  },
  {
   "cell_type": "markdown",
   "metadata": {},
   "source": [
    "> fd.head() # get the first 5 rows of the dataframe\n",
    "\n",
    "> fd.head(X) #get the first X rows of the dataframe\n",
    "\n",
    "> fd.tail() # get the last 5 rows of the dataframe\n",
    "\n",
    "> fd.tail(X)\n",
    "\n",
    "> fd.index # a list of the base of all the rows (in the case of the example, date)\n",
    "\n",
    "> fd.index[0] #get the first index \n",
    "\n",
    "> fd.index[-1]\n",
    "\n",
    "> fd.columns # a list of the base of all the columns\n",
    "\n",
    "> fd.describe() # a list of description of the dataframe\n",
    "\n",
    "> fd.shape() --> (A, B) --> the Dataframe has A rows and B columns\n"
   ]
  },
  {
   "cell_type": "markdown",
   "metadata": {},
   "source": [
    "# Slicing DataFrame\n",
    "## Extract only a part of the data\n",
    "\n",
    "there are 2 ways to do this:\n",
    "1. '.loc' (selection by label)\n",
    "2. '.iloc' (selection by position)\n",
    "\n",
    "### select single column from the data frame\n",
    "    fd['XXX']\n",
    "### select multiple columns from the data frame\n",
    "    fd[['xxx', 'yyy', 'zzz']] #PS:double bracket\n",
    "### create a new column and shift a whole column of data\n",
    "    fd['price1'] = fd['Close'].shift(-1)   --> shift upward for a row\n",
    "### create a new column called 'Price Difference'\n",
    "PriceDiff = (Close price of tomorrow - Close price of today)\n",
    "    \n",
    "    fd['PriceDiff'] = fd['Price1'] - fd['Close']\n",
    "### create a new column called ' Daily Return'\n",
    "DailyReturn = PriceDiff / Close\n",
    "\n",
    "    fd['Return'] = fd['PriceDiff] / fd['Close']\n",
    "    "
   ]
  },
  {
   "cell_type": "markdown",
   "metadata": {},
   "source": [
    "## Create a new column in the DataFrame using List Comprehension - Direction¶\n",
    "### Create a new column Direction. \n",
    "The List Comprehension means : if the price difference is larger than 0, denote as 1, otherwise, denote as 0, for every record in the DataFrame - fb\n",
    "\n",
    "* fb['Direction'] = [1 if fb['PriceDiff'].loc[ei] > 0 else 0 for ei in fb.index ]\n",
    "#### Your turn to create a new column Direction for MS\n",
    "\n",
    "* ms['Direction'] = [1 if ms['PriceDiff'].loc[ei] > 0 else 0 for ei in ms.index]\n",
    "#### Run the following code to show the price difference on 2015-01-05\n",
    "print('Price difference on {} is {}. direction is {}'.format('2015-01-05', ms['PriceDiff'].loc['2015-01-05'], ms['Direction'].loc['2015-01-05']))\n"
   ]
  },
  {
   "cell_type": "code",
   "execution_count": null,
   "metadata": {},
   "outputs": [],
   "source": []
  }
 ],
 "metadata": {
  "kernelspec": {
   "display_name": "Python 3",
   "language": "python",
   "name": "python3"
  },
  "language_info": {
   "codemirror_mode": {
    "name": "ipython",
    "version": 3
   },
   "file_extension": ".py",
   "mimetype": "text/x-python",
   "name": "python",
   "nbconvert_exporter": "python",
   "pygments_lexer": "ipython3",
   "version": "3.7.6"
  }
 },
 "nbformat": 4,
 "nbformat_minor": 4
}
